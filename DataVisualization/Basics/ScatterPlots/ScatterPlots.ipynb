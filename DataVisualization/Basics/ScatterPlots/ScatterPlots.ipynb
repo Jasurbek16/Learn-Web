{
 "cells": [
  {
   "cell_type": "markdown",
   "id": "ae53437b",
   "metadata": {},
   "source": [
    "# Scatter Plots\n",
    "## Used for showing the relationship between 2 sets of values and see if they're correlated"
   ]
  },
  {
   "cell_type": "code",
   "execution_count": 1,
   "id": "689209d3",
   "metadata": {},
   "outputs": [
    {
     "data": {
      "text/plain": [
       "<Figure size 720x480 with 0 Axes>"
      ]
     },
     "metadata": {},
     "output_type": "display_data"
    }
   ],
   "source": [
    "import pandas as pd\n",
    "from matplotlib import pyplot as plt\n",
    "from matplotlib.pyplot import figure\n",
    "\n",
    "figure(figsize=(9, 6), dpi=80)\n",
    "\n",
    "plt.style.use('seaborn')\n",
    "\n",
    "x = [5, 7, 8, 5, 6, 7, 9, 2, 3, 4, 4, 4, 2, 6, 3, 6, 8, 6, 4, 1]\n",
    "y = [7, 4, 3, 9, 1, 3, 2, 5, 2, 4, 8, 7, 1, 6, 4, 9, 7, 7, 5, 1]\n",
    "\n",
    "\n",
    "# colors = [7, 5, 9, 7, 5, 7, 2, 5, 3, 7, 1, 2, 8, 1, 9, 2, 5, 6, 7, 5]\n",
    "\n",
    "# sizes = [209, 486, 381, 255, 191, 315, 185, 228, 174,\n",
    "#          538, 239, 394, 399, 153, 273, 293, 436, 501, 397, 539]\n",
    "\n",
    "# data = pd.read_csv('2019-05-31-data.csv')\n",
    "# view_count = data['view_count']\n",
    "# likes = data['likes']\n",
    "# ratio = data['ratio']\n",
    "\n",
    "# plt.title('Trending YouTube Videos')\n",
    "# plt.xlabel('View Count')\n",
    "# plt.ylabel('Total Likes')\n",
    "\n",
    "plt.tight_layout()\n",
    "\n",
    "plt.show()"
   ]
  },
  {
   "cell_type": "code",
   "execution_count": null,
   "id": "ecde8eeb",
   "metadata": {},
   "outputs": [],
   "source": []
  }
 ],
 "metadata": {
  "kernelspec": {
   "display_name": "Python 3 (ipykernel)",
   "language": "python",
   "name": "python3"
  },
  "language_info": {
   "codemirror_mode": {
    "name": "ipython",
    "version": 3
   },
   "file_extension": ".py",
   "mimetype": "text/x-python",
   "name": "python",
   "nbconvert_exporter": "python",
   "pygments_lexer": "ipython3",
   "version": "3.9.5"
  }
 },
 "nbformat": 4,
 "nbformat_minor": 5
}
